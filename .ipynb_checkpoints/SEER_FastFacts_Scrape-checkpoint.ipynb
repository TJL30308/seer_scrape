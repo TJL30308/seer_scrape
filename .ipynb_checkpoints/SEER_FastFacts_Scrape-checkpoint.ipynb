{
 "cells": [
  {
   "cell_type": "code",
   "execution_count": null,
   "metadata": {},
   "outputs": [],
   "source": [
    "from bs4 import BeautifulSoup\n",
    "import pandas as pd\n",
    "import requests\n",
    "import numpy as np"
   ]
  },
  {
   "cell_type": "code",
   "execution_count": null,
   "metadata": {},
   "outputs": [],
   "source": [
    "url = f'https://seer.cancer.gov/statfacts'\n",
    "response = requests.get(url)\n",
    "soup = BeautifulSoup(response.text, 'html')\n",
    "cancers = soup.find_all(\"div\", class_='alphaList rpw')"
   ]
  },
  {
   "cell_type": "code",
   "execution_count": null,
   "metadata": {},
   "outputs": [],
   "source": [
    "links = []\n",
    "\n",
    "for a in soup.find_all('a', href=True):\n",
    "    links.append(a['href'])\n",
    "\n",
    "cancer_links = links[144:186]"
   ]
  },
  {
   "cell_type": "code",
   "execution_count": null,
   "metadata": {},
   "outputs": [],
   "source": [
    "cancer_dict = {}\n",
    "\n",
    "i = 0\n",
    "\n",
    "while i < len(cancer_links):\n",
    "    try:\n",
    "\n",
    "        data_cancer = f'https://seer.cancer.gov{cancer_links[i]}'\n",
    "\n",
    "        a_response = requests.get(data_cancer)\n",
    "        soup = BeautifulSoup(a_response.text, 'html')\n",
    "\n",
    "        span_array = soup.find(\"div\", class_='glance-factSheet').findAll('span')\n",
    "\n",
    "        cancer = soup.find('h1').text.strip().split(\":\")[1].lstrip()\n",
    "        cases = int(span_array[1].text.strip().replace(\",\",\"\"))\n",
    "        \n",
    "        cancer_dict.update({cancer : cases})\n",
    "\n",
    "        print(f'Estimated New Cases of {cancer} in 2020')\n",
    "        print(cases)\n",
    "        print(data_cancer)\n",
    "        print('--------------------')\n",
    "    \n",
    "        i += 1\n",
    "        \n",
    "    except (AttributeError, IndexError):\n",
    "        print(f'{cancer}: error - check page')\n",
    "        print(data_cancer)\n",
    "        print('--------------------')\n",
    "    \n",
    "        i += 1\n",
    "        \n",
    "print('task complete')"
   ]
  },
  {
   "cell_type": "code",
   "execution_count": null,
   "metadata": {},
   "outputs": [],
   "source": [
    "df = pd.DataFrame.from_dict(cancer_dict, orient='index')\n",
    "df"
   ]
  },
  {
   "cell_type": "code",
   "execution_count": null,
   "metadata": {},
   "outputs": [],
   "source": []
  }
 ],
 "metadata": {
  "kernelspec": {
   "display_name": "Python 3",
   "language": "python",
   "name": "python3"
  },
  "language_info": {
   "codemirror_mode": {
    "name": "ipython",
    "version": 3
   },
   "file_extension": ".py",
   "mimetype": "text/x-python",
   "name": "python",
   "nbconvert_exporter": "python",
   "pygments_lexer": "ipython3",
   "version": "3.8.0"
  }
 },
 "nbformat": 4,
 "nbformat_minor": 2
}
